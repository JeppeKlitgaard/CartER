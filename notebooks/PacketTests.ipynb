{
 "cells": [
  {
   "cell_type": "code",
   "execution_count": 1,
   "id": "da996946-e8bf-484b-a978-585013ed4e2c",
   "metadata": {},
   "outputs": [
    {
     "name": "stderr",
     "output_type": "stream",
     "text": [
      "root                          : DEBUG    Sat up logging...\n"
     ]
    },
    {
     "name": "stdout",
     "output_type": "stream",
     "text": [
      "#$\u0000\u0000Received unkn\u000b",
      "\u0016\u0017~\u001b\u0000\u0000\u0000=== Cartpole Controller ===\n",
      "#\u0012\u0000\u0000\u0000Free memory: 81799\n",
      "#\u0015\u0000\u0000\u0000STEPPER_CURRENT: 1000\n",
      "#\u0015\u0000\u0000\u0000STEPPER_MICROSTEPS: 8\n",
      "#(\u0000\u0000\u0000STEPPER_DISTANCE_PER_ROTATION: 40.840694\n",
      "#\u0015\u0000\u0000\u0000track_length_steps: 0\n",
      "#\u001f\u0000\u0000\u0000track_length_distance: 0.000000\n",
      "#\u0012\u0000\u0000\u0000experiment_done: 0\n",
      "\u0000\u0000\u0000run_safely: 0\n",
      "\u0000\u0000\u0000has_failed: 0\n",
      "#\u0018\u0000\u0000\u0000limit_finding_mode: DONE\n",
      "#\u0016\u0000\u0000\u0000limit_check_mode: DONE\n",
      "#\u000e\u0000\u0000\u0000Setting up I2C\n",
      "#\u0013\u0000\u0000\u0000Configuring buttons\n",
      "#\u0014\u0000\u0000\u0000Setting up steppers.\n",
      "#\u0019\u0000\u0000\u0000Starting stepper library.\n",
      "#\u0015\u0000\u0000\u0000Initiating astepper 1\n",
      "#\u001b\u0000\u0000\u0000Setting up stepper drivers.\n",
      "#\u001c",
      "\u0000\u0000\u0000Setting up stepper driver 1.\n",
      "CS (Vsense=1): 28\n",
      "Microstepping: 32\n",
      "Step delay in micros: 0\n",
      "Sending 3\n",
      "Received 101\n",
      "Sending 9C7D7\n",
      "Received 80\n",
      "Sending A0000\n",
      "Received 80\n",
      "Sending C001C\n",
      "Received 80\n",
      "Sending E0050\n",
      "Received 80\n",
      "Sending E0080\n",
      "Received 80\n",
      "Sending C001F\n",
      "Received 80\n",
      "Sending A8202\n",
      "Received 80\n",
      "Sending 901B4\n",
      "Received 80\n",
      "Sending 3\n",
      "Received C0\n",
      "INFO: Motor is standing still.\n",
      "Stall Guard value:0\n",
      "Sending 3\n",
      "Received C0\n",
      "ERROR: Channel B seems to be unconnected!\n",
      "INFO: Motor is standing still.\n",
      "Stall Guard value:0\n",
      "Microstepping: 8\n",
      "Sending 5\n",
      "Received C0\n",
      "ERROR: Channel B seems to be unconnected!\n",
      "INFO: Motor is standing still.\n",
      "Stall Guard value:0\n",
      "Step delay in micros: 0\n",
      "#\u0019\u0000\u0000\u0000Starting stepper drivers.\n",
      "#\u001a\u0000\u0000\u0000Starting stepper driver 1.\n",
      "Sending E0050\n",
      "Received C0\n",
      "ERROR: Channel B seems to be unconnected!\n",
      "INFO: Motor is standing still.\n",
      "Stall Guard value:0\n",
      "#+\u0000\u0000\u0000Setting up supply pins for rotary encoders.\n",
      "#\u001e",
      "\u0000\u0000\u0000Power-cycling rotary encoders.\n",
      "#\u0019\u0000\u0000\u0000Starting rotary encoders.\n",
      "#\u001a\u0000\u0000\u0000Starting rotary encoder 1.\n",
      "#\u0016\u0000\u0000\u0000Current magnitude: 863\n",
      "# \u0000\u0000\u0000Rotary Encoder 0| Magnitude: 862\n",
      "#K\u0000\u0000\u0000Rotary Encoder 0| Strength Strength (1=too weak, 2=good, 3=too strong): 863\n",
      "#\u001d",
      "\u0000\u0000\u0000Rotary Encoder 0| Detected: 1\n",
      "#\u001b\u0000\u0000\u0000Configuring limit switches.\n",
      "#\u001a\u0000\u0000\u0000Setting up timer interrupt\n",
      "#\u000f\u0000\u0000\u0000Config finished\n",
      "\u0000\u0000\u0000Starting loop\n",
      "END OF INITIALISATION\n"
     ]
    }
   ],
   "source": [
    "%load_ext autoreload\n",
    "%autoreload 2\n",
    "\n",
    "from commander.network import NetworkManager\n",
    "from commander.network.protocol import (\n",
    "    PingPacket,\n",
    "    SetPositionPacket,\n",
    "    SetVelocityPacket,\n",
    "    FindLimitsPacket,\n",
    "    ObservationPacket,\n",
    "    RequestDebugInfoPacket,\n",
    "    CheckLimitPacket,\n",
    "    DoJigglePacket,\n",
    "    DebugPacket,\n",
    "    InfoPacket,\n",
    "    ErrorPacket,\n",
    "    ExperimentStartPacket,\n",
    "    ExperimentStopPacket\n",
    ")\n",
    "\n",
    "from commander.log import setup_logging\n",
    "\n",
    "from commander.network.constants import SetOperation, CartID\n",
    "from time import time, sleep\n",
    "import random\n",
    "import numpy as np\n",
    "\n",
    "setup_logging(file=False)\n",
    "\n",
    "nm = NetworkManager(port=\"COM3\")\n",
    "nm.open()\n",
    "\n",
    "initialised = False\n",
    "while not initialised:\n",
    "    try:\n",
    "        nm.read_initial_output()\n",
    "    except UnicodeDecodeError:\n",
    "        pass\n",
    "    else:\n",
    "        initialised = True"
   ]
  },
  {
   "cell_type": "code",
   "execution_count": 6,
   "id": "7f2be21e-5fb9-416e-a145-c603477d6394",
   "metadata": {
    "tags": []
   },
   "outputs": [
    {
     "name": "stdout",
     "output_type": "stream",
     "text": [
      "expected index\n",
      "\n"
     ]
    }
   ],
   "source": [
    "print(nm.serial.read_all().decode(\"ASCII\", errors=\"ignore\"))"
   ]
  },
  {
   "cell_type": "code",
   "execution_count": 2,
   "id": "74e6304c-4bb4-40f5-8037-075714aecb18",
   "metadata": {},
   "outputs": [],
   "source": [
    "nm.dump_packets()"
   ]
  },
  {
   "cell_type": "markdown",
   "id": "be080d94-ba13-46f8-8526-12ebd5624391",
   "metadata": {},
   "source": [
    "# PingPacket"
   ]
  },
  {
   "cell_type": "code",
   "execution_count": 2,
   "id": "ca9db8ea-663c-4e48-aeaa-0d67e27de1d0",
   "metadata": {},
   "outputs": [
    {
     "name": "stderr",
     "output_type": "stream",
     "text": [
      "commander.network.network     : DEBUG    Read packet: <PongPacket: id_: b'P', read_time: 2021-08-20 17:48:56.112302, timestamp: 10>\n"
     ]
    },
    {
     "name": "stdout",
     "output_type": "stream",
     "text": [
      "<PongPacket: id_: b'P', read_time: 2021-08-20 17:48:56.112302, timestamp: 10>\n"
     ]
    }
   ],
   "source": [
    "ping_pkt = PingPacket(timestamp=10)\n",
    "nm.send_packet(ping_pkt)\n",
    "\n",
    "pkt = nm.read_packet()\n",
    "print(pkt)"
   ]
  },
  {
   "cell_type": "markdown",
   "id": "fe346888-cfa3-4517-8bd9-ee52e4891e3e",
   "metadata": {},
   "source": [
    "# UnknownPacket"
   ]
  },
  {
   "cell_type": "code",
   "execution_count": 3,
   "id": "8783cdea-17f5-402d-bed4-0a16e4e66d63",
   "metadata": {},
   "outputs": [
    {
     "name": "stderr",
     "output_type": "stream",
     "text": [
      "commander.network.network     : DEBUG    Read packet: <DebugPacket: id_: b'#', msg: Received unknown packet with ID: 97, read_time: 2021-08-20 15:59:08.108702>\n"
     ]
    },
    {
     "name": "stdout",
     "output_type": "stream",
     "text": [
      "<DebugPacket: id_: b'#', msg: Received unknown packet with ID: 97, read_time: 2021-08-20 15:59:08.108702>\n"
     ]
    }
   ],
   "source": [
    "nm.serial.write(b\"a\")\n",
    "pkt = nm.read_packet()\n",
    "print(pkt)"
   ]
  },
  {
   "cell_type": "markdown",
   "id": "630f5db3-93af-45d1-8e3a-b0fbeabc99b7",
   "metadata": {},
   "source": [
    "# RequestDebugInfoPacket"
   ]
  },
  {
   "cell_type": "code",
   "execution_count": 3,
   "id": "94d90197-64e8-44a9-b1e1-0ee96567d5a1",
   "metadata": {},
   "outputs": [
    {
     "name": "stderr",
     "output_type": "stream",
     "text": [
      "commander.network.network     : DEBUG    Read packet: <DebugPacket: id_: b'#', msg: Free memory: 81687, read_time: 2021-08-20 17:48:59.664554>\n",
      "commander.network.network     : DEBUG    Read packet: <DebugPacket: id_: b'#', msg: STEPPER_CURRENT: 1000, read_time: 2021-08-20 17:48:59.665553>\n",
      "commander.network.network     : DEBUG    Read packet: <DebugPacket: id_: b'#', msg: STEPPER_MICROSTEPS: 8, read_time: 2021-08-20 17:48:59.666554>\n",
      "commander.network.network     : DEBUG    Read packet: <DebugPacket: id_: b'#', msg: STEPPER_DISTANCE_PER_ROTATION: 40.840694, read_time: 2021-08-20 17:48:59.667554>\n",
      "commander.network.network     : DEBUG    Read packet: <DebugPacket: id_: b'#', msg: track_length_steps: 0, read_time: 2021-08-20 17:48:59.668555>\n",
      "commander.network.network     : DEBUG    Read packet: <DebugPacket: id_: b'#', msg: track_length_distance: 0.000000, read_time: 2021-08-20 17:48:59.672553>\n",
      "commander.network.network     : DEBUG    Read packet: <DebugPacket: id_: b'#', msg: experiment_done: 0, read_time: 2021-08-20 17:48:59.676553>\n",
      "commander.network.network     : DEBUG    Read packet: <DebugPacket: id_: b'#', msg: run_safely: 0, read_time: 2021-08-20 17:48:59.680553>\n",
      "commander.network.network     : DEBUG    Read packet: <DebugPacket: id_: b'#', msg: has_failed: 0, read_time: 2021-08-20 17:48:59.681556>\n",
      "commander.network.network     : DEBUG    Read packet: <DebugPacket: id_: b'#', msg: limit_finding_mode: DONE, read_time: 2021-08-20 17:48:59.684553>\n",
      "commander.network.network     : DEBUG    Read packet: <DebugPacket: id_: b'#', msg: limit_check_mode: DONE, read_time: 2021-08-20 17:48:59.688555>\n"
     ]
    },
    {
     "name": "stdout",
     "output_type": "stream",
     "text": [
      "<DebugPacket: id_: b'#', msg: Free memory: 81687, read_time: 2021-08-20 17:48:59.664554>\n",
      "<DebugPacket: id_: b'#', msg: STEPPER_CURRENT: 1000, read_time: 2021-08-20 17:48:59.665553>\n",
      "<DebugPacket: id_: b'#', msg: STEPPER_MICROSTEPS: 8, read_time: 2021-08-20 17:48:59.666554>\n",
      "<DebugPacket: id_: b'#', msg: STEPPER_DISTANCE_PER_ROTATION: 40.840694, read_time: 2021-08-20 17:48:59.667554>\n",
      "<DebugPacket: id_: b'#', msg: track_length_steps: 0, read_time: 2021-08-20 17:48:59.668555>\n",
      "<DebugPacket: id_: b'#', msg: track_length_distance: 0.000000, read_time: 2021-08-20 17:48:59.672553>\n",
      "<DebugPacket: id_: b'#', msg: experiment_done: 0, read_time: 2021-08-20 17:48:59.676553>\n",
      "<DebugPacket: id_: b'#', msg: run_safely: 0, read_time: 2021-08-20 17:48:59.680553>\n",
      "<DebugPacket: id_: b'#', msg: has_failed: 0, read_time: 2021-08-20 17:48:59.681556>\n",
      "<DebugPacket: id_: b'#', msg: limit_finding_mode: DONE, read_time: 2021-08-20 17:48:59.684553>\n",
      "<DebugPacket: id_: b'#', msg: limit_check_mode: DONE, read_time: 2021-08-20 17:48:59.688555>\n"
     ]
    }
   ],
   "source": [
    "request_dbg_pkt = RequestDebugInfoPacket()\n",
    "nm.send_packet(request_dbg_pkt)\n",
    "\n",
    "sleep(0.010)\n",
    "nm.dump_packets()"
   ]
  },
  {
   "cell_type": "markdown",
   "id": "c493a9bd-46e5-47ee-a7a1-2de6b3e2a4a2",
   "metadata": {},
   "source": [
    "# FindLimitsPacket"
   ]
  },
  {
   "cell_type": "code",
   "execution_count": 5,
   "id": "0ea10855-8c46-4872-b0d9-63bc92f58cb2",
   "metadata": {},
   "outputs": [
    {
     "name": "stderr",
     "output_type": "stream",
     "text": [
      "commander.network.network     : DEBUG    Read packet: <DebugPacket: id_: b'#', msg: track_length_distance: 0.000000, read_time: 2021-08-20 17:49:40.531563>\n",
      "commander.network.network     : DEBUG    Read packet: <DebugPacket: id_: b'#', msg: experiment_done: 0, read_time: 2021-08-20 17:49:40.532563>\n",
      "commander.network.network     : DEBUG    Read packet: <DebugPacket: id_: b'#', msg: run_safely: 0, read_time: 2021-08-20 17:49:40.534564>\n",
      "commander.network.network     : DEBUG    Read packet: <DebugPacket: id_: b'#', msg: has_failed: 0, read_time: 2021-08-20 17:49:40.535565>\n",
      "commander.network.network     : DEBUG    Read packet: <DebugPacket: id_: b'#', msg: limit_finding_mode: DONE, read_time: 2021-08-20 17:49:40.536566>\n",
      "commander.network.network     : DEBUG    Read packet: <DebugPacket: id_: b'#', msg: limit_check_mode: DONE, read_time: 2021-08-20 17:49:40.537562>\n",
      "commander.network.network     : DEBUG    Read packet: <InfoPacket: id_: b'~', msg: LimitFinder: LEFT LIMIT HIT [fast], read_time: 2021-08-20 17:49:40.677563>\n"
     ]
    },
    {
     "name": "stdout",
     "output_type": "stream",
     "text": [
      "<DebugPacket: id_: b'#', msg: track_length_distance: 0.000000, read_time: 2021-08-20 17:49:40.531563>\n",
      "<DebugPacket: id_: b'#', msg: experiment_done: 0, read_time: 2021-08-20 17:49:40.532563>\n",
      "<DebugPacket: id_: b'#', msg: run_safely: 0, read_time: 2021-08-20 17:49:40.534564>\n",
      "<DebugPacket: id_: b'#', msg: has_failed: 0, read_time: 2021-08-20 17:49:40.535565>\n",
      "<DebugPacket: id_: b'#', msg: limit_finding_mode: DONE, read_time: 2021-08-20 17:49:40.536566>\n",
      "<DebugPacket: id_: b'#', msg: limit_check_mode: DONE, read_time: 2021-08-20 17:49:40.537562>\n",
      "Sent packet: <FindLimitsPacket: id_: b'|', read_time: None>\n",
      "<InfoPacket: id_: b'~', msg: LimitFinder: LEFT LIMIT HIT [fast], read_time: 2021-08-20 17:49:40.677563>\n"
     ]
    },
    {
     "name": "stderr",
     "output_type": "stream",
     "text": [
      "commander.network.network     : DEBUG    Read packet: <InfoPacket: id_: b'~', msg: LimitFinder: LEFT LIMIT RETRACTED, read_time: 2021-08-20 17:49:41.050563>\n"
     ]
    },
    {
     "name": "stdout",
     "output_type": "stream",
     "text": [
      "<InfoPacket: id_: b'~', msg: LimitFinder: LEFT LIMIT RETRACTED, read_time: 2021-08-20 17:49:41.050563>\n"
     ]
    },
    {
     "name": "stderr",
     "output_type": "stream",
     "text": [
      "commander.network.network     : DEBUG    Read packet: <InfoPacket: id_: b'~', msg: LimitFinder: LEFT LIMIT HIT [slow], read_time: 2021-08-20 17:49:42.713560>\n",
      "commander.network.network     : DEBUG    Read packet: <InfoPacket: id_: b'~', msg: LimitFinder: LEFT LIMIT SET, read_time: 2021-08-20 17:49:42.721561>\n"
     ]
    },
    {
     "name": "stdout",
     "output_type": "stream",
     "text": [
      "<InfoPacket: id_: b'~', msg: LimitFinder: LEFT LIMIT HIT [slow], read_time: 2021-08-20 17:49:42.713560>\n",
      "<InfoPacket: id_: b'~', msg: LimitFinder: LEFT LIMIT SET, read_time: 2021-08-20 17:49:42.721561>\n"
     ]
    },
    {
     "name": "stderr",
     "output_type": "stream",
     "text": [
      "commander.network.network     : DEBUG    Read packet: <InfoPacket: id_: b'~', msg: LimitFinder: RIGHT LIMIT HIT [fast], read_time: 2021-08-20 17:49:54.571645>\n"
     ]
    },
    {
     "name": "stdout",
     "output_type": "stream",
     "text": [
      "<InfoPacket: id_: b'~', msg: LimitFinder: RIGHT LIMIT HIT [fast], read_time: 2021-08-20 17:49:54.571645>\n"
     ]
    },
    {
     "name": "stderr",
     "output_type": "stream",
     "text": [
      "commander.network.network     : DEBUG    Read packet: <InfoPacket: id_: b'~', msg: LimitFinder: RIGHT LIMIT RETRACTED, read_time: 2021-08-20 17:49:55.026708>\n"
     ]
    },
    {
     "name": "stdout",
     "output_type": "stream",
     "text": [
      "<InfoPacket: id_: b'~', msg: LimitFinder: RIGHT LIMIT RETRACTED, read_time: 2021-08-20 17:49:55.026708>\n"
     ]
    },
    {
     "name": "stderr",
     "output_type": "stream",
     "text": [
      "commander.network.network     : DEBUG    Read packet: <InfoPacket: id_: b'~', msg: LimitFinder: RIGHT LIMIT HIT [slow], read_time: 2021-08-20 17:49:56.763399>\n"
     ]
    },
    {
     "name": "stdout",
     "output_type": "stream",
     "text": [
      "<InfoPacket: id_: b'~', msg: LimitFinder: RIGHT LIMIT HIT [slow], read_time: 2021-08-20 17:49:56.763399>\n"
     ]
    },
    {
     "name": "stderr",
     "output_type": "stream",
     "text": [
      "commander.network.network     : DEBUG    Read packet: <InfoPacket: id_: b'~', msg: LimitFinder: NOW DONE, read_time: 2021-08-20 17:49:57.918393>\n",
      "commander.network.network     : DEBUG    Read packet: <FindLimitsPacket: id_: b'|', read_time: 2021-08-20 17:49:57.923370>\n"
     ]
    },
    {
     "name": "stdout",
     "output_type": "stream",
     "text": [
      "<InfoPacket: id_: b'~', msg: LimitFinder: NOW DONE, read_time: 2021-08-20 17:49:57.918393>\n",
      "<FindLimitsPacket: id_: b'|', read_time: 2021-08-20 17:49:57.923370>\n"
     ]
    }
   ],
   "source": [
    "PKT = FindLimitsPacket\n",
    "nm.dump_packets()\n",
    "\n",
    "pkt = PKT()\n",
    "nm.send_packet(pkt)\n",
    "print(f\"Sent packet: {pkt}\")\n",
    "\n",
    "response_pkt = nm.get_packet(PKT, block=True, callback=nm.printer_callback(excepts=(PKT, )))\n",
    "nm.dump_packets()\n",
    "print(response_pkt)"
   ]
  },
  {
   "cell_type": "markdown",
   "id": "56728df8-b02d-4dc1-b2f1-5c91f638f293",
   "metadata": {},
   "source": [
    "# CheckLimitPacket"
   ]
  },
  {
   "cell_type": "code",
   "execution_count": 6,
   "id": "a8c7e744-1c1b-4758-a6b2-4cfd6c6790e0",
   "metadata": {},
   "outputs": [
    {
     "name": "stdout",
     "output_type": "stream",
     "text": [
      "Sent packet: <CheckLimitPacket: id_: b'/', read_time: None>\n"
     ]
    },
    {
     "name": "stderr",
     "output_type": "stream",
     "text": [
      "commander.network.network     : DEBUG    Read packet: <InfoPacket: id_: b'~', msg: LimitChecker: LEFT LIMIT HIT [fast], read_time: 2021-08-20 17:50:17.883101>\n"
     ]
    },
    {
     "name": "stdout",
     "output_type": "stream",
     "text": [
      "<InfoPacket: id_: b'~', msg: LimitChecker: LEFT LIMIT HIT [fast], read_time: 2021-08-20 17:50:17.883101>\n"
     ]
    },
    {
     "name": "stderr",
     "output_type": "stream",
     "text": [
      "commander.network.network     : DEBUG    Read packet: <InfoPacket: id_: b'~', msg: LimitChecker: LEFT LIMIT RETRACTED, read_time: 2021-08-20 17:50:18.333023>\n"
     ]
    },
    {
     "name": "stdout",
     "output_type": "stream",
     "text": [
      "<InfoPacket: id_: b'~', msg: LimitChecker: LEFT LIMIT RETRACTED, read_time: 2021-08-20 17:50:18.333023>\n"
     ]
    },
    {
     "name": "stderr",
     "output_type": "stream",
     "text": [
      "commander.network.network     : DEBUG    Read packet: <InfoPacket: id_: b'~', msg: LimitChecker: LEFT LIMIT HIT [slow], read_time: 2021-08-20 17:50:20.484105>\n",
      "commander.network.network     : DEBUG    Read packet: <InfoPacket: id_: b'~', msg: LimitChecker: LEFT LIMIT GET, read_time: 2021-08-20 17:50:20.493095>\n",
      "commander.network.network     : DEBUG    Read packet: <InfoPacket: id_: b'~', msg: LimitChecker: New limit was 88, read_time: 2021-08-20 17:50:20.497028>\n",
      "commander.network.network     : DEBUG    Read packet: <ExperimentInfoPacket: cart_id: 1, id_: b':', read_time: 2021-08-20 17:50:20.502037, specifier: 1, value: 88>\n",
      "commander.network.network     : DEBUG    Read packet: <DebugPacket: id_: b'#', msg: A, read_time: 2021-08-20 17:50:20.505026>\n"
     ]
    },
    {
     "name": "stdout",
     "output_type": "stream",
     "text": [
      "<InfoPacket: id_: b'~', msg: LimitChecker: LEFT LIMIT HIT [slow], read_time: 2021-08-20 17:50:20.484105>\n",
      "<InfoPacket: id_: b'~', msg: LimitChecker: LEFT LIMIT GET, read_time: 2021-08-20 17:50:20.493095>\n",
      "<InfoPacket: id_: b'~', msg: LimitChecker: New limit was 88, read_time: 2021-08-20 17:50:20.497028>\n",
      "<ExperimentInfoPacket: cart_id: 1, id_: b':', read_time: 2021-08-20 17:50:20.502037, specifier: 1, value: 88>\n",
      "<DebugPacket: id_: b'#', msg: A, read_time: 2021-08-20 17:50:20.505026>\n"
     ]
    },
    {
     "name": "stderr",
     "output_type": "stream",
     "text": [
      "commander.network.network     : DEBUG    Read packet: <DebugPacket: id_: b'#', msg: B, read_time: 2021-08-20 17:50:21.491025>\n"
     ]
    },
    {
     "name": "stdout",
     "output_type": "stream",
     "text": [
      "<DebugPacket: id_: b'#', msg: B, read_time: 2021-08-20 17:50:21.491025>\n"
     ]
    },
    {
     "name": "stderr",
     "output_type": "stream",
     "text": [
      "commander.network.network     : DEBUG    Read packet: <DebugPacket: id_: b'#', msg: C, read_time: 2021-08-20 17:50:22.491023>\n"
     ]
    },
    {
     "name": "stdout",
     "output_type": "stream",
     "text": [
      "<DebugPacket: id_: b'#', msg: C, read_time: 2021-08-20 17:50:22.491023>\n"
     ]
    },
    {
     "name": "stderr",
     "output_type": "stream",
     "text": [
      "commander.network.network     : DEBUG    Read packet: <InfoPacket: id_: b'~', msg: LimitChecker: NOW DONE, read_time: 2021-08-20 17:50:24.908151>\n",
      "commander.network.network     : DEBUG    Read packet: <CheckLimitPacket: id_: b'/', read_time: 2021-08-20 17:50:24.913077>\n",
      "commander.network.network     : DEBUG    Read packet: <DebugPacket: id_: b'#', msg: Free memory: 81687, read_time: 2021-08-20 17:50:24.914041>\n"
     ]
    },
    {
     "name": "stdout",
     "output_type": "stream",
     "text": [
      "<InfoPacket: id_: b'~', msg: LimitChecker: NOW DONE, read_time: 2021-08-20 17:50:24.908151>\n",
      "<DebugPacket: id_: b'#', msg: Free memory: 81687, read_time: 2021-08-20 17:50:24.914041>\n",
      "<CheckLimitPacket: id_: b'/', read_time: 2021-08-20 17:50:24.913077>\n"
     ]
    }
   ],
   "source": [
    "PKT = CheckLimitPacket\n",
    "nm.dump_packets()\n",
    "\n",
    "pkt = PKT()\n",
    "nm.send_packet(pkt)\n",
    "print(f\"Sent packet: {pkt}\")\n",
    "\n",
    "response_pkt = nm.get_packet(PKT, block=True, callback=nm.printer_callback(excepts=(PKT, )))\n",
    "nm.dump_packets()\n",
    "print(response_pkt)"
   ]
  },
  {
   "cell_type": "markdown",
   "id": "b17a0cfe-1f86-460a-a70f-bec4a4a46510",
   "metadata": {},
   "source": [
    "# DoJigglePacket"
   ]
  },
  {
   "cell_type": "code",
   "execution_count": 5,
   "id": "845817d6-cf2a-4e95-9cec-09cc183533df",
   "metadata": {},
   "outputs": [
    {
     "name": "stderr",
     "output_type": "stream",
     "text": [
      "commander.network.network     : DEBUG    Read packet: <InfoPacket: id_: b'~', msg: Stopped steppers., read_time: 2021-08-20 17:10:38.401963>\n",
      "commander.network.network     : DEBUG    Read packet: <SoftLimitReachedPacket: id_: b'\\\\', read_time: 2021-08-20 17:10:38.403878>\n",
      "commander.network.network     : DEBUG    Read packet: <ExperimentInfoPacket: cart_id: 1, id_: b':', read_time: 2021-08-20 17:10:38.404886, specifier: 2, value: -1>\n"
     ]
    },
    {
     "name": "stdout",
     "output_type": "stream",
     "text": [
      "<InfoPacket: id_: b'~', msg: Stopped steppers., read_time: 2021-08-20 17:10:38.401963>\n",
      "<SoftLimitReachedPacket: id_: b'\\\\', read_time: 2021-08-20 17:10:38.403878>\n",
      "<ExperimentInfoPacket: cart_id: 1, id_: b':', read_time: 2021-08-20 17:10:38.404886, specifier: 2, value: -1>\n",
      "Sent packet: <DoJigglePacket: id_: b'\\xa7', read_time: None>\n"
     ]
    },
    {
     "name": "stderr",
     "output_type": "stream",
     "text": [
      "commander.network.network     : DEBUG    Read packet: <DoJigglePacket: id_: b'\\xa7', read_time: 2021-08-20 17:10:41.203342>\n"
     ]
    },
    {
     "name": "stdout",
     "output_type": "stream",
     "text": [
      "<DoJigglePacket: id_: b'\\xa7', read_time: 2021-08-20 17:10:41.203342>\n"
     ]
    }
   ],
   "source": [
    "PKT = DoJigglePacket\n",
    "nm.dump_packets()\n",
    "\n",
    "pkt = PKT()\n",
    "nm.send_packet(pkt)\n",
    "print(f\"Sent packet: {pkt}\")\n",
    "\n",
    "response_pkt = nm.get_packet(PKT, block=True, callback=nm.printer_callback(excepts=(PKT, )))\n",
    "nm.dump_packets()\n",
    "print(response_pkt)"
   ]
  },
  {
   "cell_type": "markdown",
   "id": "e289546b-8062-40c4-acaa-47ebfde2d079",
   "metadata": {},
   "source": [
    "# SetPositionPacket"
   ]
  },
  {
   "cell_type": "code",
   "execution_count": 3,
   "id": "56dba633-cb11-4b4a-b99e-4272e741c7f6",
   "metadata": {},
   "outputs": [
    {
     "name": "stdout",
     "output_type": "stream",
     "text": [
      "Sent packet: <SetPositionPacket: cart_id: 1, id_: b'x', operation: =, value: 500>\n"
     ]
    }
   ],
   "source": [
    "nm.dump_packets()\n",
    "\n",
    "pkt = SetPositionPacket(operation=SetOperation.EQUAL, cart_id=CartID.ONE, value=500)\n",
    "nm.send_packet(pkt)\n",
    "\n",
    "print(f\"Sent packet: {pkt}\")\n",
    "\n",
    "nm.dump_packets()"
   ]
  },
  {
   "cell_type": "markdown",
   "id": "9018684f-08bf-4724-80cd-5d2c74155a9d",
   "metadata": {},
   "source": [
    "# SetVelocityPacket"
   ]
  },
  {
   "cell_type": "code",
   "execution_count": null,
   "id": "b9b66d33-65e9-4d24-86e0-c01ad148c57e",
   "metadata": {},
   "outputs": [],
   "source": [
    "nm.dump_packets()\n",
    "\n",
    "pkt = SetVelocityPacket(operation=SetOperation.ADD, cart_id=CartID.ONE, value=100)\n",
    "nm.send_packet(pkt)\n",
    "\n",
    "print(f\"Sent packet: {pkt}\")\n",
    "sleep(1)\n",
    "\n",
    "nm.dump_packets()"
   ]
  },
  {
   "cell_type": "code",
   "execution_count": 4,
   "id": "08e07937-8f8c-4070-a2c4-2e770451c61d",
   "metadata": {},
   "outputs": [],
   "source": [
    "nm.close()"
   ]
  }
 ],
 "metadata": {
  "kernelspec": {
   "display_name": "Python 3 (ipykernel)",
   "language": "python",
   "name": "python3"
  },
  "language_info": {
   "codemirror_mode": {
    "name": "ipython",
    "version": 3
   },
   "file_extension": ".py",
   "mimetype": "text/x-python",
   "name": "python",
   "nbconvert_exporter": "python",
   "pygments_lexer": "ipython3",
   "version": "3.9.6"
  }
 },
 "nbformat": 4,
 "nbformat_minor": 5
}
