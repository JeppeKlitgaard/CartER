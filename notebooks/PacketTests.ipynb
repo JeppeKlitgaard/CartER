{
 "cells": [
  {
   "cell_type": "code",
   "execution_count": 1,
   "id": "da996946-e8bf-484b-a978-585013ed4e2c",
   "metadata": {},
   "outputs": [
    {
     "name": "stdout",
     "output_type": "stream",
     "text": [
      "#$\u0000\u0000\u0000YV===================\n",
      "CartPole Controller\n",
      "===================\n",
      "=======================\n",
      "START DEBUG INFORMATION\n",
      "=======================\n",
      "STEPPER_CURRENT: 1000\n",
      "STEPPER_MICROSTEPS: 8\n",
      "STEPPER_DISTANCE_PER_ROTATION: 40.84\n",
      "=====================\n",
      "END DEBUG INFORMATION\n",
      "=====================\n",
      "\n",
      "Setting up I2C.\n",
      "Configuring buttons.\n",
      "Setting up steppers.\n",
      "Starting stepper library.\n",
      "Initiating astepper 1.\n",
      "Setting up stepper drivers.\n",
      "Setting up stepper driver 1.\n",
      "CS (Vsense=1): 28\n",
      "Microstepping: 32\n",
      "Step delay in micros: 0\n",
      "Sending 3\n",
      "Received 101C1\n",
      "Sending 9C7D7\n",
      "Received 80E0\n",
      "Sending A0000\n",
      "Received 8080\n",
      "Sending C001C\n",
      "Received 8080\n",
      "Sending E0050\n",
      "Received 8080\n",
      "Sending E0080\n",
      "Received 8080\n",
      "Sending C001F\n",
      "Received D4C81\n",
      "Sending A8202\n",
      "Received D4C81\n",
      "Sending 901B4\n",
      "Received D4C81\n",
      "Sending 3\n",
      "Received D4CC1\n",
      "INFO: Stall Guard level reached!\n",
      "INFO: Motor is standing still.\n",
      "Stall Guard value:851\n",
      "Sending 3\n",
      "Received D4CC1\n",
      "ERROR: Channel B seems to be unconnected!\n",
      "INFO: Stall Guard level reached!\n",
      "INFO: Motor is standing still.\n",
      "Stall Guard value:851\n",
      "Microstepping: 8\n",
      "Sending 5\n",
      "Received D4CC1\n",
      "ERROR: Channel B seems to be unconnected!\n",
      "INFO: Stall Guard level reached!\n",
      "INFO: Motor is standing still.\n",
      "Stall Guard value:851\n",
      "Step delay in micros: 0\n",
      "Starting stepper drivers.\n",
      "Starting stepper driver 1.\n",
      "Sending E0050\n",
      "Received D4CC1\n",
      "ERROR: Channel B seems to be unconnected!\n",
      "INFO: Stall Guard level reached!\n",
      "INFO: Motor is standing still.\n",
      "Stall Guard value:851\n",
      "Setting up supply pins for rotary encoders.\n",
      "Power-cycling rotary encoders.\n",
      "Starting rotary encoders.\n",
      "Starting rotary encoder 1.\n",
      "Current Magnitude: 863\n",
      "Rotary Encoder @0 has following:\n",
      "Magnitude: 863\n",
      "Strength (1=too weak, 2=good, 3=too strong): 1\n",
      "Detected: 1\n",
      "#\u001b\u0000\u0000\u0000Configuring limit switches.\n",
      "Setting up timer interrupt.\n",
      "Config finished.\n",
      "Starting loop.\n",
      "--------------\n",
      "\n",
      "END OF INITIALISATION\n"
     ]
    }
   ],
   "source": [
    "%load_ext autoreload\n",
    "%autoreload 2\n",
    "\n",
    "from commander.network import NetworkManager\n",
    "from commander.network.protocol import (\n",
    "    PingPacket,\n",
    "    SetPositionPacket,\n",
    "    SetVelocityPacket,\n",
    "    FindLimitsPacket,\n",
    "    ObservationPacket,\n",
    "    RequestDebugInfoPacket,\n",
    "    CheckLimitPacket,\n",
    "    DoJigglePacket,\n",
    "    DebugPacket,\n",
    "    InfoPacket,\n",
    "    ErrorPacket,\n",
    "    ExperimentStartPacket,\n",
    "    ExperimentStopPacket\n",
    ")\n",
    "\n",
    "from commander.network.constants import SetOperation, CartID\n",
    "from time import time, sleep\n",
    "import random\n",
    "import numpy as np\n",
    "\n",
    "nm = NetworkManager(port=\"COM3\")\n",
    "nm.open()\n",
    "\n",
    "initialised = False\n",
    "while not initialised:\n",
    "    try:\n",
    "        nm.read_initial_output()\n",
    "    except UnicodeDecodeError:\n",
    "        pass\n",
    "    else:\n",
    "        initialised = True"
   ]
  },
  {
   "cell_type": "code",
   "execution_count": 2,
   "id": "7f2be21e-5fb9-416e-a145-c603477d6394",
   "metadata": {},
   "outputs": [
    {
     "name": "stdout",
     "output_type": "stream",
     "text": [
      "\n"
     ]
    }
   ],
   "source": [
    "print(nm.serial.read_all().decode(\"ASCII\", errors=\"ignore\"))"
   ]
  },
  {
   "cell_type": "code",
   "execution_count": 3,
   "id": "74e6304c-4bb4-40f5-8037-075714aecb18",
   "metadata": {},
   "outputs": [],
   "source": [
    "nm.dump_packets()"
   ]
  },
  {
   "cell_type": "markdown",
   "id": "be080d94-ba13-46f8-8526-12ebd5624391",
   "metadata": {},
   "source": [
    "# PingPacket"
   ]
  },
  {
   "cell_type": "code",
   "execution_count": 4,
   "id": "ca9db8ea-663c-4e48-aeaa-0d67e27de1d0",
   "metadata": {},
   "outputs": [
    {
     "name": "stdout",
     "output_type": "stream",
     "text": [
      "<PongPacket: id_: b'P', read_time: 2021-08-18 17:53:26.611432, timestamp: 10>\n"
     ]
    },
    {
     "data": {
      "text/plain": [
       "<DebugPacket: id_: b'#', msg: Received unknown packet with ID: 97, read_time: 2021-08-18 17:53:26.615441>"
      ]
     },
     "execution_count": 4,
     "metadata": {},
     "output_type": "execute_result"
    }
   ],
   "source": [
    "## P\n",
    "ping_pkt = PingPacket(timestamp=10)\n",
    "\n",
    "nm.send_packet(ping_pkt)\n",
    "\n",
    "pkt = nm.read_packet()\n",
    "print(pkt)\n",
    "\n",
    "nm.serial.write(b\"a\")\n",
    "pkt = nm.read_packet()\n",
    "pkt"
   ]
  },
  {
   "cell_type": "markdown",
   "id": "fe346888-cfa3-4517-8bd9-ee52e4891e3e",
   "metadata": {},
   "source": [
    "# UnknownPacket"
   ]
  },
  {
   "cell_type": "code",
   "execution_count": 5,
   "id": "8783cdea-17f5-402d-bed4-0a16e4e66d63",
   "metadata": {},
   "outputs": [
    {
     "name": "stdout",
     "output_type": "stream",
     "text": [
      "<DebugPacket: id_: b'#', msg: Received unknown packet with ID: 97, read_time: 2021-08-18 17:53:26.656349>\n"
     ]
    }
   ],
   "source": [
    "nm.serial.write(b\"a\")\n",
    "pkt = nm.read_packet()\n",
    "print(pkt)"
   ]
  },
  {
   "cell_type": "markdown",
   "id": "630f5db3-93af-45d1-8e3a-b0fbeabc99b7",
   "metadata": {},
   "source": [
    "# RequestDebugInfoPacket"
   ]
  },
  {
   "cell_type": "code",
   "execution_count": 6,
   "id": "94d90197-64e8-44a9-b1e1-0ee96567d5a1",
   "metadata": {},
   "outputs": [
    {
     "name": "stdout",
     "output_type": "stream",
     "text": [
      "<DebugPacket: id_: b'#', msg: STEPPER_CURRENT: 1000, read_time: 2021-08-18 17:53:26.724436>\n",
      "<DebugPacket: id_: b'#', msg: STEPPER_MICROSTEPS: 8, read_time: 2021-08-18 17:53:26.724436>\n",
      "<DebugPacket: id_: b'#', msg: STEPPER_DISTANCE_PER_ROTATION: 40.840694, read_time: 2021-08-18 17:53:26.724436>\n",
      "<DebugPacket: id_: b'#', msg: track_length_steps: 0, read_time: 2021-08-18 17:53:26.724436>\n",
      "<DebugPacket: id_: b'#', msg: track_length_distance: 0.000000, read_time: 2021-08-18 17:53:26.724436>\n"
     ]
    }
   ],
   "source": [
    "request_dbg_pkt = RequestDebugInfoPacket()\n",
    "nm.send_packet(request_dbg_pkt)\n",
    "\n",
    "sleep(0.010)\n",
    "nm.dump_packets()"
   ]
  },
  {
   "cell_type": "markdown",
   "id": "c493a9bd-46e5-47ee-a7a1-2de6b3e2a4a2",
   "metadata": {},
   "source": [
    "# FindLimitsPacket"
   ]
  },
  {
   "cell_type": "code",
   "execution_count": 7,
   "id": "0ea10855-8c46-4872-b0d9-63bc92f58cb2",
   "metadata": {},
   "outputs": [
    {
     "name": "stdout",
     "output_type": "stream",
     "text": [
      "<DebugPacket: id_: b'#', msg: experiment_done: 0, read_time: 2021-08-18 17:53:26.764350>\n",
      "Sent packet: <FindLimitsPacket: id_: b'|', read_time: None>\n",
      "<InfoPacket: id_: b'~', msg: LimitFinder: LEFT LIMIT HIT [fast], read_time: 2021-08-18 17:53:28.643430>\n",
      "<InfoPacket: id_: b'~', msg: LimitFinder: LEFT LIMIT HIT [slow], read_time: 2021-08-18 17:53:29.049349>\n",
      "<InfoPacket: id_: b'~', msg: LimitFinder: LEFT LIMIT HIT [slow], read_time: 2021-08-18 17:53:29.585347>\n",
      "<InfoPacket: id_: b'~', msg: LimitFinder: LEFT LIMIT SET, read_time: 2021-08-18 17:53:29.601528>\n",
      "<InfoPacket: id_: b'~', msg: LimitFinder: RIGHT LIMIT HIT [fast], read_time: 2021-08-18 17:53:34.586812>\n",
      "<InfoPacket: id_: b'~', msg: LimitFinder: RIGHT LIMIT RETRACTED, read_time: 2021-08-18 17:53:34.742819>\n",
      "<InfoPacket: id_: b'~', msg: LimitFinder: RIGHT LIMIT HIT [slow], read_time: 2021-08-18 17:53:36.425813>\n",
      "<InfoPacket: id_: b'~', msg: LimitFinder: NOW DONE, read_time: 2021-08-18 17:53:37.265732>\n",
      "<FindLimitsPacket: id_: b'|', read_time: 2021-08-18 17:53:37.269731>\n"
     ]
    }
   ],
   "source": [
    "PKT = FindLimitsPacket\n",
    "nm.dump_packets()\n",
    "\n",
    "pkt = PKT()\n",
    "nm.send_packet(pkt)\n",
    "print(f\"Sent packet: {pkt}\")\n",
    "\n",
    "response_pkt = nm.get_packet(PKT, block=True, callback=nm.printer_callback(excepts=(PKT, )))\n",
    "nm.dump_packets()\n",
    "print(response_pkt)"
   ]
  },
  {
   "cell_type": "markdown",
   "id": "56728df8-b02d-4dc1-b2f1-5c91f638f293",
   "metadata": {},
   "source": [
    "# CheckLimitPacket"
   ]
  },
  {
   "cell_type": "code",
   "execution_count": 8,
   "id": "a8c7e744-1c1b-4758-a6b2-4cfd6c6790e0",
   "metadata": {},
   "outputs": [
    {
     "name": "stdout",
     "output_type": "stream",
     "text": [
      "Sent packet: <CheckLimitPacket: id_: b'/', read_time: None>\n",
      "<InfoPacket: id_: b'~', msg: LimitChecker: LEFT LIMIT HIT [fast], read_time: 2021-08-18 17:53:39.739858>\n",
      "<InfoPacket: id_: b'~', msg: LimitChecker: LEFT LIMIT RETRACTED, read_time: 2021-08-18 17:53:39.953129>\n",
      "<InfoPacket: id_: b'~', msg: LimitChecker: LEFT LIMIT HIT [slow], read_time: 2021-08-18 17:53:41.501224>\n",
      "<InfoPacket: id_: b'~', msg: LimitChecker: LEFT LIMIT GET, read_time: 2021-08-18 17:53:41.505276>\n",
      "<InfoPacket: id_: b'~', msg: LimitChecker: New limit was 89, read_time: 2021-08-18 17:53:41.510130>\n",
      "<InfoPacket: id_: b'~', msg: LimitChecker: NOW DONE, read_time: 2021-08-18 17:53:42.341130>\n",
      "<CheckLimitPacket: id_: b'/', read_time: 2021-08-18 17:53:42.345245>\n"
     ]
    }
   ],
   "source": [
    "PKT = CheckLimitPacket\n",
    "nm.dump_packets()\n",
    "\n",
    "pkt = PKT()\n",
    "nm.send_packet(pkt)\n",
    "print(f\"Sent packet: {pkt}\")\n",
    "\n",
    "response_pkt = nm.get_packet(PKT, block=True, callback=nm.printer_callback(excepts=(PKT, )))\n",
    "nm.dump_packets()\n",
    "print(response_pkt)"
   ]
  },
  {
   "cell_type": "markdown",
   "id": "b17a0cfe-1f86-460a-a70f-bec4a4a46510",
   "metadata": {},
   "source": [
    "# DoJigglePacket"
   ]
  },
  {
   "cell_type": "code",
   "execution_count": 9,
   "id": "845817d6-cf2a-4e95-9cec-09cc183533df",
   "metadata": {},
   "outputs": [
    {
     "name": "stdout",
     "output_type": "stream",
     "text": [
      "Sent packet: <DoJigglePacket: id_: b'\\xa7', read_time: None>\n",
      "<DoJigglePacket: id_: b'\\xa7', read_time: 2021-08-18 17:53:44.388804>\n"
     ]
    }
   ],
   "source": [
    "PKT = DoJigglePacket\n",
    "nm.dump_packets()\n",
    "\n",
    "pkt = PKT()\n",
    "nm.send_packet(pkt)\n",
    "print(f\"Sent packet: {pkt}\")\n",
    "\n",
    "response_pkt = nm.get_packet(PKT, block=True, callback=nm.printer_callback(excepts=(PKT, )))\n",
    "nm.dump_packets()\n",
    "print(response_pkt)"
   ]
  },
  {
   "cell_type": "markdown",
   "id": "e289546b-8062-40c4-acaa-47ebfde2d079",
   "metadata": {},
   "source": [
    "# SetPositionPacket"
   ]
  },
  {
   "cell_type": "code",
   "execution_count": 10,
   "id": "56dba633-cb11-4b4a-b99e-4272e741c7f6",
   "metadata": {},
   "outputs": [
    {
     "name": "stdout",
     "output_type": "stream",
     "text": [
      "Sent packet: <SetPositionPacket: cart_id: 1, id_: b'x', operation: +, value: 100>\n"
     ]
    }
   ],
   "source": [
    "nm.dump_packets()\n",
    "\n",
    "pkt = SetPositionPacket(operation=SetOperation.ADD, cart_id=CartID.ONE, value=100)\n",
    "nm.send_packet(pkt)\n",
    "\n",
    "print(f\"Sent packet: {pkt}\")\n",
    "sleep(1)\n",
    "\n",
    "nm.dump_packets()"
   ]
  },
  {
   "cell_type": "markdown",
   "id": "9018684f-08bf-4724-80cd-5d2c74155a9d",
   "metadata": {},
   "source": [
    "# SetVelocityPacket"
   ]
  },
  {
   "cell_type": "code",
   "execution_count": null,
   "id": "b9b66d33-65e9-4d24-86e0-c01ad148c57e",
   "metadata": {},
   "outputs": [],
   "source": [
    "nm.dump_packets()\n",
    "\n",
    "pkt = SetVelocityPacket(operation=SetOperation.ADD, cart_id=CartID.ONE, value=100)\n",
    "nm.send_packet(pkt)\n",
    "\n",
    "print(f\"Sent packet: {pkt}\")\n",
    "sleep(1)\n",
    "\n",
    "nm.dump_packets()"
   ]
  },
  {
   "cell_type": "code",
   "execution_count": null,
   "id": "08e07937-8f8c-4070-a2c4-2e770451c61d",
   "metadata": {},
   "outputs": [],
   "source": []
  }
 ],
 "metadata": {
  "kernelspec": {
   "display_name": "Python 3 (ipykernel)",
   "language": "python",
   "name": "python3"
  },
  "language_info": {
   "codemirror_mode": {
    "name": "ipython",
    "version": 3
   },
   "file_extension": ".py",
   "mimetype": "text/x-python",
   "name": "python",
   "nbconvert_exporter": "python",
   "pygments_lexer": "ipython3",
   "version": "3.9.6"
  }
 },
 "nbformat": 4,
 "nbformat_minor": 5
}
