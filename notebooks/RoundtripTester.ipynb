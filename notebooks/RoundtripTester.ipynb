{
 "cells": [
  {
   "cell_type": "code",
   "execution_count": 1,
   "id": "6d0865b9-5b0b-4f79-b587-4fce25d1f73b",
   "metadata": {},
   "outputs": [
    {
     "name": "stdout",
     "output_type": "stream",
     "text": [
      "#$\u0000\u0000Received unkown X===================\n",
      "CartPole Controller\n",
      "===================\n",
      "=======================\n",
      "START DEBUG INFORMATION\n",
      "=======================\n",
      "STEPPER_CURRENT: 1000\n",
      "STEPPER_MICROSTEPS: 8\n",
      "STEPPER_DISTANCE_PER_ROTATION: 40.84\n",
      "=====================\n",
      "END DEBUG INFORMATION\n",
      "=====================\n",
      "\n",
      "Setting up I2C.\n",
      "Configuring buttons.\n",
      "Setting up steppers.\n",
      "Starting stepper library.\n",
      "Initiating astepper 1.\n",
      "Setting up stepper drivers.\n",
      "Setting up stepper driver 1.\n",
      "CS (Vsense=1): 28\n",
      "Microstepping: 32\n",
      "Step delay in micros: 0\n",
      "Sending 3\n",
      "Received 1C3\n",
      "Sending 9C7D7\n",
      "Received E1\n",
      "Sending A0000\n",
      "Received 81\n",
      "Sending C001C\n",
      "Received 81\n",
      "Sending E0050\n",
      "Received 81\n",
      "Sending E0080\n",
      "Received 81\n",
      "Sending C001F\n",
      "Received 1CC81\n",
      "Sending A8202\n",
      "Received 1CC81\n",
      "Sending 901B4\n",
      "Received 1CC81\n",
      "Sending 3\n",
      "Received 1CC81\n",
      "INFO: Stall Guard level reached!\n",
      "INFO: Motor is standing still.\n",
      "Stall Guard value:115\n",
      "Sending 3\n",
      "Received 1CC81\n",
      "INFO: Stall Guard level reached!\n",
      "INFO: Motor is standing still.\n",
      "Stall Guard value:115\n",
      "Microstepping: 8\n",
      "Sending 5\n",
      "Received 1CC81\n",
      "INFO: Stall Guard level reached!\n",
      "INFO: Motor is standing still.\n",
      "Stall Guard value:115\n",
      "Step delay in micros: 0\n",
      "Starting stepper drivers.\n",
      "Starting stepper driver 1.\n",
      "Sending E0050\n",
      "Received 1CC81\n",
      "INFO: Stall Guard level reached!\n",
      "INFO: Motor is standing still.\n",
      "Stall Guard value:115\n",
      "Setting up supply pins for rotary encoders.\n",
      "Power-cycling rotary encoders.\n",
      "Starting rotary encoders.\n",
      "Starting rotary encoder 1.\n",
      "Current Magnitude: 861\n",
      "Rotary Encoder @0 has following:\n",
      "Magnitude: 861\n",
      "Strength (1=too weak, 2=good, 3=too strong): 1\n",
      "Detected: 1\n",
      "#\u001b\u0000\u0000\u0000Configuring limit switches.\n",
      "Setting up timer interrupt.\n",
      "Config finished.\n",
      "Starting loop.\n",
      "--------------\n",
      "\n",
      "END OF INITIALISATION\n"
     ]
    }
   ],
   "source": [
    "%load_ext autoreload\n",
    "%autoreload 2\n",
    "\n",
    "from commander.network import NetworkManager\n",
    "from commander.network.protocol import (\n",
    "    PingPacket,\n",
    "    SetPositionPacket,\n",
    "    SetVelocityPacket,\n",
    "    FindLimitsPacket,\n",
    "    ObservationPacket,\n",
    "    RequestDebugInfoPacket,\n",
    "    CheckLimitPacket,\n",
    "    DoJigglePacket,\n",
    "    DebugPacket,\n",
    "    InfoPacket,\n",
    "    ErrorPacket,\n",
    "    ExperimentStartPacket,\n",
    "    ExperimentStopPacket\n",
    ")\n",
    "\n",
    "from commander.network.constants import SetOperation, CartID\n",
    "from time import time, sleep\n",
    "import random\n",
    "import numpy as np\n",
    "from tqdm.notebook import trange\n",
    "\n",
    "nm = NetworkManager(port=\"COM3\")\n",
    "nm.open()\n",
    "\n",
    "initialised = False\n",
    "while not initialised:\n",
    "    try:\n",
    "        nm.read_initial_output()\n",
    "    except UnicodeDecodeError:\n",
    "        pass\n",
    "    else:\n",
    "        initialised = True\n",
    "\n",
    "nm.assert_ping_pong()"
   ]
  },
  {
   "cell_type": "code",
   "execution_count": 2,
   "id": "72723f02-cf75-48fa-9622-fe4ab5e178e8",
   "metadata": {
    "tags": []
   },
   "outputs": [
    {
     "data": {
      "application/vnd.jupyter.widget-view+json": {
       "model_id": "4fd50ea4f2624be884473e0dbcfe935b",
       "version_major": 2,
       "version_minor": 0
      },
      "text/plain": [
       "Ping Pongs:   0%|          | 0/50000 [00:00<?, ?it/s]"
      ]
     },
     "metadata": {},
     "output_type": "display_data"
    }
   ],
   "source": [
    "times = []\n",
    "trips = 50000  # 25000 * 0.004s ≈ 100s ≈ 1½ min]\n",
    "for i in trange(trips, desc=\"Ping Pongs\"):\n",
    "    ping_pkt = PingPacket(timestamp=10)\n",
    "\n",
    "    start_time = time()\n",
    "    nm.send_packet(ping_pkt)\n",
    "    pong_pkt = nm.read_packet()\n",
    "    end_time = time()\n",
    "\n",
    "    time_diff = end_time - start_time\n",
    "    times.append(time_diff)"
   ]
  },
  {
   "cell_type": "code",
   "execution_count": 3,
   "id": "15e0f617-8a5a-41e6-a78e-a3b48112d21b",
   "metadata": {
    "tags": []
   },
   "outputs": [
    {
     "name": "stdout",
     "output_type": "stream",
     "text": [
      "Freedman–Diaconis number of bins: 1345\n"
     ]
    },
    {
     "data": {
      "text/plain": [
       "Text(0, 0.5, 'Probability')"
      ]
     },
     "execution_count": 3,
     "metadata": {},
     "output_type": "execute_result"
    },
    {
     "data": {
      "image/png": "[encoded data removed]",
      "text/plain": [
       "<Figure size 432x288 with 1 Axes>"
      ]
     },
     "metadata": {
      "needs_background": "light"
     },
     "output_type": "display_data"
    }
   ],
   "source": [
    "import numpy as np\n",
    "from scipy import stats\n",
    "import matplotlib.pyplot as plt\n",
    "\n",
    "atimes = np.array(times)\n",
    "stats.describe(atimes)\n",
    "\n",
    "q25, q75 = np.percentile(atimes,[.25,.75])\n",
    "bin_width = 2*(q75 - q25)*len(atimes)**(-1/3)\n",
    "bins = round((atimes.max() - atimes.min())/bin_width)\n",
    "weights = np.ones_like(atimes) / len(atimes)\n",
    "\n",
    "print(\"Freedman–Diaconis number of bins:\", bins)\n",
    "plt.hist(atimes * 1000, weights=weights, bins = bins);\n",
    "plt.xlabel(\"Round-trip time in milliseconds\")\n",
    "plt.ylabel(\"Probability\")\n",
    "\n"
   ]
  },
  {
   "cell_type": "code",
   "execution_count": 4,
   "id": "d572aea0-7941-415c-98f6-e53e44181e2f",
   "metadata": {},
   "outputs": [],
   "source": [
    "nm.close()"
   ]
  }
 ],
 "metadata": {
  "kernelspec": {
   "display_name": "Python 3 (ipykernel)",
   "language": "python",
   "name": "python3"
  },
  "language_info": {
   "codemirror_mode": {
    "name": "ipython",
    "version": 3
   },
   "file_extension": ".py",
   "mimetype": "text/x-python",
   "name": "python",
   "nbconvert_exporter": "python",
   "pygments_lexer": "ipython3",
   "version": "3.9.6"
  }
 },
 "nbformat": 4,
 "nbformat_minor": 5
}
