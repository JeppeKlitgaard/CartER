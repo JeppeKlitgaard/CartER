{
 "cells": [
  {
   "cell_type": "code",
   "execution_count": 1,
   "id": "6d0865b9-5b0b-4f79-b587-4fce25d1f73b",
   "metadata": {},
   "outputs": [],
   "source": [
    "from commander.network import NetworkManager\n",
    "from commander.network.protocol import PingPacket\n",
    "from time import time\n",
    "\n",
    "nm = NetworkManager(port=\"COM3\")\n",
    "nm.open()\n",
    "\n"
   ]
  },
  {
   "cell_type": "code",
   "execution_count": 2,
   "id": "f0eda25b-ac94-41fc-8781-5d6af439c54d",
   "metadata": {},
   "outputs": [
    {
     "name": "stdout",
     "output_type": "stream",
     "text": [
      "const size_t INITIAL_OUTPUT_STOP_MARKER_LENGTH = 22;\n",
      "const byte INITIAL_OUTPUT_STOP_MARKER[22] = {0x45, 0x4E, 0x44, 0x20, 0x4F, 0x46, 0x20, 0x49, 0x4E, 0x49, 0x54, 0x49, 0x41, 0x4C, 0x49, 0x53, 0x41, 0x54, 0x49, 0x4F, 0x4E, 0x0A};\n",
      "\u0000===================\n",
      "CartPole Controller\n",
      "===================\n",
      "=======================\n",
      "START DEBUG INFORMATION\n",
      "=======================\n",
      "STEPPER_CURRENT: 1000\n",
      "STEPPER_MICROSTEPS: 4\n",
      "STEPPER_DISTANCE_PER_ROTATION: 40.84\n",
      "=====================\n",
      "END DEBUG INFORMATION\n",
      "=====================\n",
      "\n",
      "Setting up I2C.\n",
      "Configuring buttons.\n",
      "Setting up steppers.\n",
      "Starting stepper library.\n",
      "Initiating astepper 1.\n",
      "Setting up stepper drivers.\n",
      "Setting up stepper driver 1.\n",
      "Starting stepper drivers.\n",
      "Starting stepper driver 1.\n",
      "Setting up rotary encoders.\n",
      "Setting up rotary encoder 1.\n",
      "Configuring limit switches.\n",
      "Config finished.\n",
      "Starting loop.\n",
      "--------------\n",
      "\n",
      "END OF INITIALISATION\n",
      "\n"
     ]
    }
   ],
   "source": [
    "# Generate string for C++\n",
    "print(nm._cpp_initial_output_decl())\n",
    "print(nm.read_initial_output())"
   ]
  },
  {
   "cell_type": "code",
   "execution_count": 3,
   "id": "e9548c65-2ef0-4f0d-b1a1-e30461c6fffe",
   "metadata": {},
   "outputs": [
    {
     "name": "stdout",
     "output_type": "stream",
     "text": [
      "10\n"
     ]
    },
    {
     "data": {
      "text/plain": [
       "<commander.network.protocol.DebugPacket at 0x1e40bb12af0>"
      ]
     },
     "execution_count": 3,
     "metadata": {},
     "output_type": "execute_result"
    }
   ],
   "source": [
    "ping_pkt = PingPacket()\n",
    "ping_pkt.construct(timestamp=10)\n",
    "\n",
    "nm.send_packet(ping_pkt)\n",
    "\n",
    "pkt = nm.read_packet()\n",
    "print(pkt.timestamp)\n",
    "\n",
    "nm.serial.write(b\"a\")\n",
    "pkt = nm.read_packet()\n",
    "pkt"
   ]
  },
  {
   "cell_type": "code",
   "execution_count": 4,
   "id": "11eb934f-c9e3-4cfb-abcd-0b3b13fb8fb2",
   "metadata": {},
   "outputs": [
    {
     "data": {
      "text/plain": [
       "'Received unknown packet with ID: 97'"
      ]
     },
     "execution_count": 4,
     "metadata": {},
     "output_type": "execute_result"
    }
   ],
   "source": [
    "pkt.msg"
   ]
  },
  {
   "cell_type": "code",
   "execution_count": 4,
   "id": "72723f02-cf75-48fa-9622-fe4ab5e178e8",
   "metadata": {
    "tags": []
   },
   "outputs": [],
   "source": [
    "times = []\n",
    "trips = 25000  # 25000 * 0.004s ≈ 100s ≈ 1½ min\n",
    "for i in range(50000):\n",
    "    ping_pkt = PingPacket()\n",
    "    ping_pkt.construct(timestamp=10)\n",
    "\n",
    "    start_time = time()\n",
    "    nm.send_packet(ping_pkt)\n",
    "    pong_pkt = nm.read_packet()\n",
    "    end_time = time()\n",
    "\n",
    "    time_diff = end_time - start_time\n",
    "    times.append(time_diff)"
   ]
  },
  {
   "cell_type": "code",
   "execution_count": 13,
   "id": "15e0f617-8a5a-41e6-a78e-a3b48112d21b",
   "metadata": {
    "tags": []
   },
   "outputs": [
    {
     "name": "stdout",
     "output_type": "stream",
     "text": [
      "Freedman–Diaconis number of bins: 747\n"
     ]
    },
    {
     "data": {
      "text/plain": [
       "Text(0, 0.5, 'Probability')"
      ]
     },
     "execution_count": 13,
     "metadata": {},
     "output_type": "execute_result"
    },
    {
     "data": {
      "image/png": "[encoded data removed]",
      "text/plain": [
       "<Figure size 432x288 with 1 Axes>"
      ]
     },
     "metadata": {
      "needs_background": "light"
     },
     "output_type": "display_data"
    }
   ],
   "source": [
    "import numpy as np\n",
    "from scipy import stats\n",
    "import matplotlib.pyplot as plt\n",
    "\n",
    "atimes = np.array(times)\n",
    "stats.describe(atimes)\n",
    "\n",
    "q25, q75 = np.percentile(atimes,[.25,.75])\n",
    "bin_width = 2*(q75 - q25)*len(atimes)**(-1/3)\n",
    "bins = round((atimes.max() - atimes.min())/bin_width)\n",
    "weights = np.ones_like(atimes) / len(atimes)\n",
    "\n",
    "print(\"Freedman–Diaconis number of bins:\", bins)\n",
    "plt.hist(atimes * 1000, weights=weights, bins = bins);\n",
    "plt.xlabel(\"Round-trip time in milliseconds\")\n",
    "plt.ylabel(\"Probability\")\n",
    "\n"
   ]
  },
  {
   "cell_type": "code",
   "execution_count": 6,
   "id": "d572aea0-7941-415c-98f6-e53e44181e2f",
   "metadata": {},
   "outputs": [],
   "source": [
    "nm.close()"
   ]
  },
  {
   "cell_type": "code",
   "execution_count": null,
   "id": "d1d11fa1-580f-474a-96b4-3eb4a849a9d4",
   "metadata": {},
   "outputs": [],
   "source": []
  }
 ],
 "metadata": {
  "kernelspec": {
   "display_name": "Python 3",
   "language": "python",
   "name": "python3"
  },
  "language_info": {
   "codemirror_mode": {
    "name": "ipython",
    "version": 3
   },
   "file_extension": ".py",
   "mimetype": "text/x-python",
   "name": "python",
   "nbconvert_exporter": "python",
   "pygments_lexer": "ipython3",
   "version": "3.9.6"
  }
 },
 "nbformat": 4,
 "nbformat_minor": 5
}
