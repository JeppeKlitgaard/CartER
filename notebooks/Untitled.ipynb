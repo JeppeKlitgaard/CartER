{
 "cells": [
  {
   "cell_type": "code",
   "execution_count": 1,
   "id": "57b3e435-2b3e-4c0b-b002-b67ce5d6d599",
   "metadata": {},
   "outputs": [],
   "source": [
    "%load_ext autoreload\n",
    "%autoreload 2\n",
    "\n",
    "import os\n",
    "from pathlib import Path\n",
    "import time\n",
    "import numpy as np\n",
    "\n",
    "# Change to apprpriate directory to get local modules\n",
    "cwd = Path.cwd()\n",
    "while cwd.parts[-1] != \"CartpoleML\":\n",
    "    os.chdir(\"..\")\n",
    "    cwd = Path.cwd()"
   ]
  },
  {
   "cell_type": "code",
   "execution_count": null,
   "id": "56a57f2d-bd24-458d-ab13-1ff6b873d796",
   "metadata": {},
   "outputs": [],
   "source": [
    "from gym_ext.cartpole import CartPoleEnv\n",
    "\n",
    "env = CartPoleEnv(failure_angle=(-np.pi/2, np.pi/2), failure_position=(-5, 5), starting_spread=0.2)\n",
    "env = CartPoleEnv(failure_angle=(-np.inf, np.inf), failure_position=(-10, 10), starting_spread=0.2)\n",
    "\n",
    "env.reset()\n",
    "for _ in range(10000):\n",
    "    env.render()\n",
    "    outcome = env.step(env.action_space.sample()) # take a random action\n",
    "    \n",
    "    if outcome[2]:\n",
    "        print(\"Simulation done\")\n",
    "        print(outcome)\n",
    "        break\n",
    "    \n",
    "time.sleep(2)\n",
    "env.close()"
   ]
  }
 ],
 "metadata": {
  "kernelspec": {
   "display_name": "Python 3",
   "language": "python",
   "name": "python3"
  },
  "language_info": {
   "codemirror_mode": {
    "name": "ipython",
    "version": 3
   },
   "file_extension": ".py",
   "mimetype": "text/x-python",
   "name": "python",
   "nbconvert_exporter": "python",
   "pygments_lexer": "ipython3",
   "version": "3.9.6"
  }
 },
 "nbformat": 4,
 "nbformat_minor": 5
}
