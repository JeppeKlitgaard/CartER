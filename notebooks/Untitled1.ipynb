{
 "cells": [
  {
   "cell_type": "code",
   "execution_count": 18,
   "id": "afa2dbe0-5fd7-4001-82da-a62404688c62",
   "metadata": {},
   "outputs": [],
   "source": [
    "from scipy.integrate import solve_ivp\n",
    "from math import sin, cos\n",
    "import numpy as np\n",
    "\n",
    "import numpy as np\n",
    "import matplotlib.pyplot as plt\n",
    "\n",
    "def state_plotter(times, states, fig_num):\n",
    "    num_states = np.shape(states)[0]\n",
    "    num_cols = int(np.ceil(np.sqrt(num_states)))\n",
    "    num_rows = int(np.ceil(num_states / num_cols))\n",
    "    plt.figure(fig_num)\n",
    "    plt.clf()\n",
    "    fig, ax = plt.subplots(num_rows, num_cols, num=fig_num, clear=True,\n",
    "                         squeeze=False)\n",
    "    for n in range(num_states):\n",
    "        row = n // num_cols\n",
    "        col = n % num_cols\n",
    "        ax[row][col].plot(times, states[n], 'k.:')\n",
    "        ax[row][col].set(xlabel='Time',\n",
    "                         ylabel='$y_{:0.0f}(t)$'.format(n),\n",
    "                         title='$y_{:0.0f}(t)$ vs. Time'.format(n))\n",
    "        \n",
    "    for n in range(num_states, num_rows * num_cols):\n",
    "        fig.delaxes(ax[n // num_cols][n % num_cols])\n",
    "\n",
    "    fig.tight_layout()\n",
    "\n",
    "    return fig, ax"
   ]
  },
  {
   "cell_type": "code",
   "execution_count": 35,
   "id": "336806d5-0930-41bf-a77c-ae6211c82d0c",
   "metadata": {},
   "outputs": [
    {
     "name": "stdout",
     "output_type": "stream",
     "text": [
      "  message: 'The solver successfully reached the end of the integration interval.'\n",
      "     nfev: 62\n",
      "     njev: 0\n",
      "      nlu: 0\n",
      "      sol: None\n",
      "   status: 0\n",
      "  success: True\n",
      "        t: array([0.00000000e+00, 1.00010001e-03, 2.00020002e-03, ...,\n",
      "       9.99799980e+00, 9.99899990e+00, 1.00000000e+01])\n",
      " t_events: None\n",
      "        y: array([[ 5.00000000e-02,  5.00500300e-02,  5.01001101e-02, ...,\n",
      "         1.09790985e+03,  1.09900845e+03,  1.10010812e+03],\n",
      "       [ 0.00000000e+00, -6.08844152e-04, -1.21768860e-03, ...,\n",
      "        -3.59379756e+04, -3.60101606e+04, -3.60824839e+04]])\n",
      " y_events: None\n"
     ]
    },
    {
     "data": {
      "text/plain": [
       "(<Figure size 432x288 with 2 Axes>,\n",
       " array([[<AxesSubplot:title={'center':'$y_0(t)$ vs. Time'}, xlabel='Time', ylabel='$y_0(t)$'>,\n",
       "         <AxesSubplot:title={'center':'$y_1(t)$ vs. Time'}, xlabel='Time', ylabel='$y_1(t)$'>]],\n",
       "       dtype=object))"
      ]
     },
     "execution_count": 35,
     "metadata": {},
     "output_type": "execute_result"
    },
    {
     "data": {
      "image/png": "[encoded data removed]",
      "text/plain": [
       "<Figure size 432x288 with 2 Axes>"
      ]
     },
     "metadata": {
      "needs_background": "light"
     },
     "output_type": "display_data"
    }
   ],
   "source": [
    "theta = 0.05\n",
    "g = 9.82\n",
    "F = 0\n",
    "m_c = 0.5\n",
    "m_p = 0.5\n",
    "m = m_c + m_p\n",
    "l = 1.0\n",
    "m_l = m*l\n",
    "\n",
    "tspan = np.linspace(0, 10, 10000)\n",
    "yinit = [0.05, 0.00]\n",
    "\n",
    "def f(t, alpha, theta, g, F, m_l, m, l, m_p):\n",
    "    alphadot = [\n",
    "            alpha[0],\n",
    "            (g * sin(theta) - cos(theta) * ((F + m_l + alpha[0] ** 2 * sin(theta))/m))/(l*(4/3 - m_p * cos(theta)**2 / m))            \n",
    "    ]\n",
    "    \n",
    "    return alphadot\n",
    "\n",
    "sol = solve_ivp(\n",
    "    lambda t, alpha: f(t, alpha, theta, g, F, m_l, m, l, m_p),\n",
    "    [tspan[0], tspan[-1]], yinit, t_eval=tspan\n",
    ")\n",
    "\n",
    "print(sol)\n",
    "\n",
    "state_plotter(sol.t, sol.y, 1)\n"
   ]
  },
  {
   "cell_type": "code",
   "execution_count": null,
   "id": "456979e0-629c-4302-acef-736282816ae8",
   "metadata": {},
   "outputs": [],
   "source": []
  }
 ],
 "metadata": {
  "kernelspec": {
   "display_name": "Python 3",
   "language": "python",
   "name": "python3"
  },
  "language_info": {
   "codemirror_mode": {
    "name": "ipython",
    "version": 3
   },
   "file_extension": ".py",
   "mimetype": "text/x-python",
   "name": "python",
   "nbconvert_exporter": "python",
   "pygments_lexer": "ipython3",
   "version": "3.9.6"
  }
 },
 "nbformat": 4,
 "nbformat_minor": 5
}
