{
 "cells": [
  {
   "cell_type": "code",
   "execution_count": 3,
   "id": "7eae7aee-a99a-4bfe-af95-b008685973b4",
   "metadata": {},
   "outputs": [],
   "source": [
    "from math import pi\n",
    "\n",
    "STEPPER_DRIVE_GEAR_OD: float = 13.0\n",
    "\n",
    "MICROSTEPS: int = 8\n",
    "DISTANCE_PER_ROTATION: float = pi * STEPPER_DRIVE_GEAR_OD\n",
    "STEPS_PER_ROTATION = 200\n",
    "    \n",
    "def steps_to_distance(steps: float) -> float:\n",
    "    \"\"\"Steps to distance in mm.\"\"\"\n",
    "    return (steps / MICROSTEPS) * DISTANCE_PER_ROTATION / STEPS_PER_ROTATION\n",
    "\n",
    "def distance_to_steps(distance: float) -> float:\n",
    "    \"\"\"Distance in mm to steps.\"\"\"\n",
    "    return distance * MICROSTEPS * STEPS_PER_ROTATION / DISTANCE_PER_ROTATION"
   ]
  },
  {
   "cell_type": "code",
   "execution_count": 7,
   "id": "48f1af91-a693-4e6f-b5db-32fe99eb0651",
   "metadata": {},
   "outputs": [
    {
     "name": "stdout",
     "output_type": "stream",
     "text": [
      "1.2762720155208536\n",
      "39176.60137646654\n"
     ]
    }
   ],
   "source": [
    "print(steps_to_distance(50))\n",
    "print(distance_to_steps(1000))"
   ]
  }
 ],
 "metadata": {
  "kernelspec": {
   "display_name": "Python 3 (ipykernel)",
   "language": "python",
   "name": "python3"
  },
  "language_info": {
   "codemirror_mode": {
    "name": "ipython",
    "version": 3
   },
   "file_extension": ".py",
   "mimetype": "text/x-python",
   "name": "python",
   "nbconvert_exporter": "python",
   "pygments_lexer": "ipython3",
   "version": "3.9.6"
  }
 },
 "nbformat": 4,
 "nbformat_minor": 5
}
