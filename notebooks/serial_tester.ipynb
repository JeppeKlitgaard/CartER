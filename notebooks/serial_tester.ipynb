{
    "cells": [
        {
            "cell_type": "code",
            "execution_count": 1,
            "source": [
                "import serial\r\n",
                "import datetime as dt\r\n",
                "import struct\r\n",
                "import time\r\n",
                "from timeit import default_timer as timer\r\n"
            ],
            "outputs": [],
            "metadata": {}
        },
        {
            "cell_type": "code",
            "execution_count": 2,
            "source": [
                "PORT = \"COM3\"\r\n",
                "BAUDRATE = 74880\r\n",
                "\r\n",
                "s = serial.Serial()\r\n",
                "s.port = PORT\r\n",
                "s.baudrate = BAUDRATE\r\n",
                "\r\n",
                "s.open()"
            ],
            "outputs": [],
            "metadata": {}
        },
        {
            "cell_type": "code",
            "execution_count": 4,
            "source": [
                "def dt_to_ulong(dt_obj: dt.datetime):\r\n",
                "    long = struct.unpack(\"L\", struct.pack(\"f\", dt_obj.timestamp()))[0]\r\n",
                "    return long\r\n",
                "\r\n",
                "\r\n",
                "start = timer()\r\n",
                "\r\n",
                "packet = \"p\".encode(\"ascii\") + bytes([0x64, 0x00, 0x00, 0x00])\r\n",
                "print(packet)\r\n",
                "\r\n",
                "s.write(packet)\r\n",
                "time.sleep(2)\r\n",
                "print(s.read_all())\r\n",
                "\r\n",
                "end = timer()\r\n",
                "\r\n",
                "td = dt.timedelta(seconds=start-end)\r\n",
                "print(td.microseconds)\r\n",
                "\r\n",
                "\r\n",
                "# offset = dt_to_ulong(dt.datetime.now())\r\n",
                "\r\n",
                "# start = dt_to_ulong(dt.datetime.now()) - offset\r\n",
                "\r\n",
                "\r\n",
                "# print(offset)\r\n",
                "# print(start)\r\n"
            ],
            "outputs": [
                {
                    "output_type": "stream",
                    "name": "stdout",
                    "text": [
                        "b'p\\x01\\x02\\x03\\x04'\n",
                        "b''\n",
                        "989404\n"
                    ]
                }
            ],
            "metadata": {}
        },
        {
            "cell_type": "code",
            "execution_count": 36,
            "source": [
                "s.close()"
            ],
            "outputs": [],
            "metadata": {}
        }
    ],
    "metadata": {
        "orig_nbformat": 4,
        "language_info": {
            "name": "python",
            "version": "3.9.6",
            "mimetype": "text/x-python",
            "codemirror_mode": {
                "name": "ipython",
                "version": 3
            },
            "pygments_lexer": "ipython3",
            "nbconvert_exporter": "python",
            "file_extension": ".py"
        },
        "kernelspec": {
            "name": "python3",
            "display_name": "Python 3.9.6 64-bit ('.venv': venv)"
        },
        "interpreter": {
            "hash": "7bc22fb2b4d4636db783e0d17b6f4617225c46dd2bd54bd9b78eb5e4c53aee98"
        }
    },
    "nbformat": 4,
    "nbformat_minor": 2
}