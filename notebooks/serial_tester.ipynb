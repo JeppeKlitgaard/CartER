{
 "cells": [
  {
   "cell_type": "code",
   "execution_count": 1,
   "metadata": {},
   "outputs": [],
   "source": [
    "import serial\r\n",
    "import datetime as dt\r\n",
    "import struct\r\n",
    "import time\r\n",
    "from timeit import default_timer as t\n",
    "\n",
    "from commander.neti\n",
    "mer\r\n"
   ]
  },
  {
   "cell_type": "code",
   "execution_count": 2,
   "metadata": {},
   "outputs": [],
   "source": [
    "PORT = \"COM3\"\r\n",
    "BAUDRATE = 74880\r\n",
    "\r\n",
    "s = serial.Serial()\r\n",
    "s.port = PORT\r\n",
    "s.baudrate = BAUDRATE\r\n",
    "\r\n",
    "s.open()"
   ]
  },
  {
   "cell_type": "code",
   "execution_count": 3,
   "metadata": {},
   "outputs": [
    {
     "name": "stdout",
     "output_type": "stream",
     "text": [
      "===================\n",
      "CartPole Controller\n",
      "===================\n",
      "=======================\n",
      "START DEBUG INFORMATION\n",
      "=======================\n",
      "STEPPER_CURRENT: 1000\n",
      "STEPPER_MICROSTEPS: 4\n",
      "STEPPER_DISTANCE_PER_ROTATION: 40.84\n",
      "=====================\n",
      "END DEBUG INFORMATION\n",
      "=====================\n",
      "\n",
      "Setting up I2C.\n",
      "Configuring buttons.\n",
      "Setting up steppers.\n",
      "Starting stepper library.\n",
      "Initiating astepper 1.\n",
      "Setting up stepper drivers.\n",
      "Setting up stepper driver 1.\n",
      "Starting stepper drivers.\n",
      "Starting stepper driver 1.\n",
      "Setting up rotary encoders.\n",
      "Setting up rotary encoder 1.\n",
      "Configuring limit switches.\n",
      "Config finished.\n",
      "Starting loop.\n",
      "--------------\n",
      "\n",
      "\n",
      "b'p\\n\\x00\\x00\\x00'\n",
      "b'\\n\\x00\\x00\\x0010PONG\\r\\n10\\r\\n\\n\\x00\\x00\\x00P\\n\\x00\\x00\\x00P\\n\\x00\\x00\\x00'\n",
      "992569\n"
     ]
    }
   ],
   "source": [
    "print(s.read_all().decode(\"ascii\"))\r\n",
    "\r\n",
    "def dt_to_ulong(dt_obj: dt.datetime):\r\n",
    "    long = struct.unpack(\"L\", struct.pack(\"f\", dt_obj.timestamp()))[0]\r\n",
    "    return long\r\n",
    "\r\n",
    "\r\n",
    "start = timer()\r\n",
    "\r\n",
    "packet = \"p\".encode(\"ascii\") + bytes([0x0A, 0x00, 0x00, 0x00])\r\n",
    "print(packet)\r\n",
    "\r\n",
    "s.write(packet)\r\n",
    "time.sleep(2)\r\n",
    "print(s.read_all())\r\n",
    "\r\n",
    "end = timer()\r\n",
    "\r\n",
    "td = dt.timedelta(seconds=start-end)\r\n",
    "print(td.microseconds)\r\n",
    "\r\n",
    "\r\n",
    "# offset = dt_to_ulong(dt.datetime.now())\r\n",
    "\r\n",
    "# start = dt_to_ulong(dt.datetime.now()) - offset\r\n",
    "\r\n",
    "\r\n",
    "# print(offset)\r\n",
    "# print(start)\r\n"
   ]
  },
  {
   "cell_type": "code",
   "execution_count": 36,
   "metadata": {},
   "outputs": [],
   "source": [
    "s.close()"
   ]
  }
 ],
 "metadata": {
  "interpreter": {
   "hash": "7bc22fb2b4d4636db783e0d17b6f4617225c46dd2bd54bd9b78eb5e4c53aee98"
  },
  "kernelspec": {
   "display_name": "Python 3",
   "language": "python",
   "name": "python3"
  },
  "language_info": {
   "codemirror_mode": {
    "name": "ipython",
    "version": 3
   },
   "file_extension": ".py",
   "mimetype": "text/x-python",
   "name": "python",
   "nbconvert_exporter": "python",
   "pygments_lexer": "ipython3",
   "version": "3.9.6"
  }
 },
 "nbformat": 4,
 "nbformat_minor": 4
}
